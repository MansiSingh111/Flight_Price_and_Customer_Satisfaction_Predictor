{
 "cells": [
  {
   "cell_type": "code",
   "execution_count": 6,
   "id": "e32a0bab",
   "metadata": {},
   "outputs": [],
   "source": [
    "import pandas as pd"
   ]
  },
  {
   "cell_type": "code",
   "execution_count": 7,
   "id": "2c39a6d0",
   "metadata": {},
   "outputs": [
    {
     "data": {
      "text/html": [
       "<div>\n",
       "<style scoped>\n",
       "    .dataframe tbody tr th:only-of-type {\n",
       "        vertical-align: middle;\n",
       "    }\n",
       "\n",
       "    .dataframe tbody tr th {\n",
       "        vertical-align: top;\n",
       "    }\n",
       "\n",
       "    .dataframe thead th {\n",
       "        text-align: right;\n",
       "    }\n",
       "</style>\n",
       "<table border=\"1\" class=\"dataframe\">\n",
       "  <thead>\n",
       "    <tr style=\"text-align: right;\">\n",
       "      <th></th>\n",
       "      <th>Airline</th>\n",
       "      <th>Date_of_Journey</th>\n",
       "      <th>Source</th>\n",
       "      <th>Destination</th>\n",
       "      <th>Route</th>\n",
       "      <th>Dep_Time</th>\n",
       "      <th>Arrival_Time</th>\n",
       "      <th>Duration</th>\n",
       "      <th>Total_Stops</th>\n",
       "      <th>Additional_Info</th>\n",
       "      <th>Price</th>\n",
       "    </tr>\n",
       "  </thead>\n",
       "  <tbody>\n",
       "    <tr>\n",
       "      <th>0</th>\n",
       "      <td>IndiGo</td>\n",
       "      <td>24/03/2019</td>\n",
       "      <td>Banglore</td>\n",
       "      <td>New Delhi</td>\n",
       "      <td>BLR ? DEL</td>\n",
       "      <td>22:20</td>\n",
       "      <td>22/03/2025 01:10</td>\n",
       "      <td>2h 50m</td>\n",
       "      <td>non-stop</td>\n",
       "      <td>No info</td>\n",
       "      <td>3897</td>\n",
       "    </tr>\n",
       "    <tr>\n",
       "      <th>1</th>\n",
       "      <td>Air India</td>\n",
       "      <td>01/05/2019</td>\n",
       "      <td>Kolkata</td>\n",
       "      <td>Banglore</td>\n",
       "      <td>CCU ? IXR ? BBI ? BLR</td>\n",
       "      <td>05:50</td>\n",
       "      <td>13:15</td>\n",
       "      <td>7h 25m</td>\n",
       "      <td>2 stops</td>\n",
       "      <td>No info</td>\n",
       "      <td>7662</td>\n",
       "    </tr>\n",
       "    <tr>\n",
       "      <th>2</th>\n",
       "      <td>Jet Airways</td>\n",
       "      <td>09/06/2019</td>\n",
       "      <td>Delhi</td>\n",
       "      <td>Cochin</td>\n",
       "      <td>DEL ? LKO ? BOM ? COK</td>\n",
       "      <td>09:25</td>\n",
       "      <td>10/06/2025 04:25</td>\n",
       "      <td>19h</td>\n",
       "      <td>2 stops</td>\n",
       "      <td>No info</td>\n",
       "      <td>13882</td>\n",
       "    </tr>\n",
       "    <tr>\n",
       "      <th>3</th>\n",
       "      <td>IndiGo</td>\n",
       "      <td>12/05/2019</td>\n",
       "      <td>Kolkata</td>\n",
       "      <td>Banglore</td>\n",
       "      <td>CCU ? NAG ? BLR</td>\n",
       "      <td>18:05</td>\n",
       "      <td>23:30</td>\n",
       "      <td>5h 25m</td>\n",
       "      <td>1 stop</td>\n",
       "      <td>No info</td>\n",
       "      <td>6218</td>\n",
       "    </tr>\n",
       "    <tr>\n",
       "      <th>4</th>\n",
       "      <td>IndiGo</td>\n",
       "      <td>01/03/2019</td>\n",
       "      <td>Banglore</td>\n",
       "      <td>New Delhi</td>\n",
       "      <td>BLR ? NAG ? DEL</td>\n",
       "      <td>16:50</td>\n",
       "      <td>21:35</td>\n",
       "      <td>4h 45m</td>\n",
       "      <td>1 stop</td>\n",
       "      <td>No info</td>\n",
       "      <td>13302</td>\n",
       "    </tr>\n",
       "  </tbody>\n",
       "</table>\n",
       "</div>"
      ],
      "text/plain": [
       "       Airline Date_of_Journey    Source Destination                  Route  \\\n",
       "0       IndiGo      24/03/2019  Banglore   New Delhi              BLR ? DEL   \n",
       "1    Air India      01/05/2019   Kolkata    Banglore  CCU ? IXR ? BBI ? BLR   \n",
       "2  Jet Airways      09/06/2019     Delhi      Cochin  DEL ? LKO ? BOM ? COK   \n",
       "3       IndiGo      12/05/2019   Kolkata    Banglore        CCU ? NAG ? BLR   \n",
       "4       IndiGo      01/03/2019  Banglore   New Delhi        BLR ? NAG ? DEL   \n",
       "\n",
       "  Dep_Time      Arrival_Time Duration Total_Stops Additional_Info  Price  \n",
       "0    22:20  22/03/2025 01:10   2h 50m    non-stop         No info   3897  \n",
       "1    05:50             13:15   7h 25m     2 stops         No info   7662  \n",
       "2    09:25  10/06/2025 04:25      19h     2 stops         No info  13882  \n",
       "3    18:05             23:30   5h 25m      1 stop         No info   6218  \n",
       "4    16:50             21:35   4h 45m      1 stop         No info  13302  "
      ]
     },
     "execution_count": 7,
     "metadata": {},
     "output_type": "execute_result"
    }
   ],
   "source": [
    "df = pd.read_csv('Flight_Price data.csv')\n",
    "df.head()"
   ]
  },
  {
   "cell_type": "code",
   "execution_count": 3,
   "id": "dddf6a19",
   "metadata": {},
   "outputs": [
    {
     "data": {
      "text/html": [
       "<div>\n",
       "<style scoped>\n",
       "    .dataframe tbody tr th:only-of-type {\n",
       "        vertical-align: middle;\n",
       "    }\n",
       "\n",
       "    .dataframe tbody tr th {\n",
       "        vertical-align: top;\n",
       "    }\n",
       "\n",
       "    .dataframe thead th {\n",
       "        text-align: right;\n",
       "    }\n",
       "</style>\n",
       "<table border=\"1\" class=\"dataframe\">\n",
       "  <thead>\n",
       "    <tr style=\"text-align: right;\">\n",
       "      <th></th>\n",
       "      <th>Price</th>\n",
       "    </tr>\n",
       "  </thead>\n",
       "  <tbody>\n",
       "    <tr>\n",
       "      <th>count</th>\n",
       "      <td>10683.000000</td>\n",
       "    </tr>\n",
       "    <tr>\n",
       "      <th>mean</th>\n",
       "      <td>9087.064121</td>\n",
       "    </tr>\n",
       "    <tr>\n",
       "      <th>std</th>\n",
       "      <td>4611.359167</td>\n",
       "    </tr>\n",
       "    <tr>\n",
       "      <th>min</th>\n",
       "      <td>1759.000000</td>\n",
       "    </tr>\n",
       "    <tr>\n",
       "      <th>25%</th>\n",
       "      <td>5277.000000</td>\n",
       "    </tr>\n",
       "    <tr>\n",
       "      <th>50%</th>\n",
       "      <td>8372.000000</td>\n",
       "    </tr>\n",
       "    <tr>\n",
       "      <th>75%</th>\n",
       "      <td>12373.000000</td>\n",
       "    </tr>\n",
       "    <tr>\n",
       "      <th>max</th>\n",
       "      <td>79512.000000</td>\n",
       "    </tr>\n",
       "  </tbody>\n",
       "</table>\n",
       "</div>"
      ],
      "text/plain": [
       "              Price\n",
       "count  10683.000000\n",
       "mean    9087.064121\n",
       "std     4611.359167\n",
       "min     1759.000000\n",
       "25%     5277.000000\n",
       "50%     8372.000000\n",
       "75%    12373.000000\n",
       "max    79512.000000"
      ]
     },
     "execution_count": 3,
     "metadata": {},
     "output_type": "execute_result"
    }
   ],
   "source": [
    "df.describe()"
   ]
  },
  {
   "cell_type": "code",
   "execution_count": 4,
   "id": "8f64e853",
   "metadata": {},
   "outputs": [
    {
     "name": "stdout",
     "output_type": "stream",
     "text": [
      "<class 'pandas.core.frame.DataFrame'>\n",
      "RangeIndex: 10683 entries, 0 to 10682\n",
      "Data columns (total 11 columns):\n",
      " #   Column           Non-Null Count  Dtype \n",
      "---  ------           --------------  ----- \n",
      " 0   Airline          10683 non-null  object\n",
      " 1   Date_of_Journey  10683 non-null  object\n",
      " 2   Source           10683 non-null  object\n",
      " 3   Destination      10683 non-null  object\n",
      " 4   Route            10682 non-null  object\n",
      " 5   Dep_Time         10683 non-null  object\n",
      " 6   Arrival_Time     10683 non-null  object\n",
      " 7   Duration         10683 non-null  object\n",
      " 8   Total_Stops      10682 non-null  object\n",
      " 9   Additional_Info  10683 non-null  object\n",
      " 10  Price            10683 non-null  int64 \n",
      "dtypes: int64(1), object(10)\n",
      "memory usage: 918.2+ KB\n"
     ]
    }
   ],
   "source": [
    "df.info()"
   ]
  },
  {
   "cell_type": "code",
   "execution_count": 5,
   "id": "4be327cb",
   "metadata": {},
   "outputs": [
    {
     "data": {
      "text/plain": [
       "Airline            0\n",
       "Date_of_Journey    0\n",
       "Source             0\n",
       "Destination        0\n",
       "Route              1\n",
       "Dep_Time           0\n",
       "Arrival_Time       0\n",
       "Duration           0\n",
       "Total_Stops        1\n",
       "Additional_Info    0\n",
       "Price              0\n",
       "dtype: int64"
      ]
     },
     "execution_count": 5,
     "metadata": {},
     "output_type": "execute_result"
    }
   ],
   "source": [
    "df.isnull().sum() # null values of column"
   ]
  },
  {
   "cell_type": "code",
   "execution_count": 8,
   "id": "27e095cf",
   "metadata": {},
   "outputs": [],
   "source": [
    "df.drop(['Route', 'Additional_Info'], axis=1, inplace=True)"
   ]
  },
  {
   "cell_type": "code",
   "execution_count": 9,
   "id": "7e6da391",
   "metadata": {},
   "outputs": [
    {
     "name": "stdout",
     "output_type": "stream",
     "text": [
      "[9039]\n"
     ]
    }
   ],
   "source": [
    "null_indices = df[df['Total_Stops'].isnull()].index.tolist()\n",
    "print(null_indices)\n"
   ]
  },
  {
   "cell_type": "code",
   "execution_count": 10,
   "id": "f4ae9eb0",
   "metadata": {},
   "outputs": [
    {
     "name": "stdout",
     "output_type": "stream",
     "text": [
      "        Airline Date_of_Journey Source Destination Dep_Time      Arrival_Time  \\\n",
      "9039  Air India      06/05/2019  Delhi      Cochin    09:45  07/05/2025 09:25   \n",
      "\n",
      "     Duration Total_Stops  Price  \n",
      "9039  23h 40m         NaN   7480  \n"
     ]
    }
   ],
   "source": [
    "null_rows = df[df['Total_Stops'].isnull()]\n",
    "print(null_rows)\n"
   ]
  },
  {
   "cell_type": "code",
   "execution_count": 11,
   "id": "d6016dc8",
   "metadata": {},
   "outputs": [],
   "source": [
    "df['Total_Stops'] = df['Total_Stops'].fillna('2 stops')\n"
   ]
  },
  {
   "cell_type": "code",
   "execution_count": 10,
   "id": "7d9fe12e",
   "metadata": {},
   "outputs": [
    {
     "data": {
      "text/plain": [
       "Airline            0\n",
       "Date_of_Journey    0\n",
       "Source             0\n",
       "Destination        0\n",
       "Dep_Time           0\n",
       "Arrival_Time       0\n",
       "Duration           0\n",
       "Total_Stops        0\n",
       "Price              0\n",
       "dtype: int64"
      ]
     },
     "execution_count": 10,
     "metadata": {},
     "output_type": "execute_result"
    }
   ],
   "source": [
    "df.isnull().sum()"
   ]
  },
  {
   "cell_type": "code",
   "execution_count": 12,
   "id": "690c5515",
   "metadata": {},
   "outputs": [],
   "source": [
    "df['Duration_in_minutes'] = df['Duration'].apply(lambda x: sum([int(s.replace('h',''))*60 if 'h' in s else int(s.replace('m','')) for s in x.split()]))"
   ]
  },
  {
   "cell_type": "code",
   "execution_count": 13,
   "id": "2b9dc50a",
   "metadata": {},
   "outputs": [],
   "source": [
    "stop_map = {\n",
    "    'non-stop': 0,\n",
    "    '1 stop': 1,\n",
    "    '2 stops': 2,\n",
    "    '3 stops': 3,\n",
    "    '4 stops': 4\n",
    "}\n",
    "df['Number_of_Stops'] = df['Total_Stops'].map(stop_map)"
   ]
  },
  {
   "cell_type": "code",
   "execution_count": 14,
   "id": "c52bb53c",
   "metadata": {},
   "outputs": [],
   "source": [
    "df['Date_of_Journey'] = pd.to_datetime(df['Date_of_Journey'], format='%d/%m/%Y', errors='coerce')"
   ]
  },
  {
   "cell_type": "code",
   "execution_count": 15,
   "id": "c341c3e7",
   "metadata": {},
   "outputs": [
    {
     "name": "stdout",
     "output_type": "stream",
     "text": [
      "0    22/03/2025 01:10\n",
      "1               13:15\n",
      "2    10/06/2025 04:25\n",
      "3               23:30\n",
      "4               21:35\n",
      "5               11:25\n",
      "6    13/03/2025 10:25\n",
      "7    02/03/2025 05:05\n",
      "8    13/03/2025 10:25\n",
      "9               19:15\n",
      "Name: Arrival_Time, dtype: object\n"
     ]
    }
   ],
   "source": [
    "print(df['Arrival_Time'].head(10))"
   ]
  },
  {
   "cell_type": "code",
   "execution_count": 16,
   "id": "2fe21150",
   "metadata": {},
   "outputs": [],
   "source": [
    "import numpy as np"
   ]
  },
  {
   "cell_type": "code",
   "execution_count": 16,
   "id": "4eb9431d",
   "metadata": {},
   "outputs": [
    {
     "data": {
      "text/html": [
       "<div>\n",
       "<style scoped>\n",
       "    .dataframe tbody tr th:only-of-type {\n",
       "        vertical-align: middle;\n",
       "    }\n",
       "\n",
       "    .dataframe tbody tr th {\n",
       "        vertical-align: top;\n",
       "    }\n",
       "\n",
       "    .dataframe thead th {\n",
       "        text-align: right;\n",
       "    }\n",
       "</style>\n",
       "<table border=\"1\" class=\"dataframe\">\n",
       "  <thead>\n",
       "    <tr style=\"text-align: right;\">\n",
       "      <th></th>\n",
       "      <th>Airline</th>\n",
       "      <th>Date_of_Journey</th>\n",
       "      <th>Source</th>\n",
       "      <th>Destination</th>\n",
       "      <th>Dep_Time</th>\n",
       "      <th>Arrival_Time</th>\n",
       "      <th>Duration</th>\n",
       "      <th>Total_Stops</th>\n",
       "      <th>Price</th>\n",
       "      <th>Duration_in_minutes</th>\n",
       "      <th>Number_of_Stops</th>\n",
       "    </tr>\n",
       "  </thead>\n",
       "  <tbody>\n",
       "    <tr>\n",
       "      <th>0</th>\n",
       "      <td>IndiGo</td>\n",
       "      <td>2019-03-24</td>\n",
       "      <td>Banglore</td>\n",
       "      <td>New Delhi</td>\n",
       "      <td>22:20</td>\n",
       "      <td>22/03/2025 01:10</td>\n",
       "      <td>2h 50m</td>\n",
       "      <td>non-stop</td>\n",
       "      <td>3897</td>\n",
       "      <td>170</td>\n",
       "      <td>0</td>\n",
       "    </tr>\n",
       "    <tr>\n",
       "      <th>1</th>\n",
       "      <td>Air India</td>\n",
       "      <td>2019-05-01</td>\n",
       "      <td>Kolkata</td>\n",
       "      <td>Banglore</td>\n",
       "      <td>05:50</td>\n",
       "      <td>13:15</td>\n",
       "      <td>7h 25m</td>\n",
       "      <td>2 stops</td>\n",
       "      <td>7662</td>\n",
       "      <td>445</td>\n",
       "      <td>2</td>\n",
       "    </tr>\n",
       "    <tr>\n",
       "      <th>2</th>\n",
       "      <td>Jet Airways</td>\n",
       "      <td>2019-06-09</td>\n",
       "      <td>Delhi</td>\n",
       "      <td>Cochin</td>\n",
       "      <td>09:25</td>\n",
       "      <td>10/06/2025 04:25</td>\n",
       "      <td>19h</td>\n",
       "      <td>2 stops</td>\n",
       "      <td>13882</td>\n",
       "      <td>1140</td>\n",
       "      <td>2</td>\n",
       "    </tr>\n",
       "    <tr>\n",
       "      <th>3</th>\n",
       "      <td>IndiGo</td>\n",
       "      <td>2019-05-12</td>\n",
       "      <td>Kolkata</td>\n",
       "      <td>Banglore</td>\n",
       "      <td>18:05</td>\n",
       "      <td>23:30</td>\n",
       "      <td>5h 25m</td>\n",
       "      <td>1 stop</td>\n",
       "      <td>6218</td>\n",
       "      <td>325</td>\n",
       "      <td>1</td>\n",
       "    </tr>\n",
       "    <tr>\n",
       "      <th>4</th>\n",
       "      <td>IndiGo</td>\n",
       "      <td>2019-03-01</td>\n",
       "      <td>Banglore</td>\n",
       "      <td>New Delhi</td>\n",
       "      <td>16:50</td>\n",
       "      <td>21:35</td>\n",
       "      <td>4h 45m</td>\n",
       "      <td>1 stop</td>\n",
       "      <td>13302</td>\n",
       "      <td>285</td>\n",
       "      <td>1</td>\n",
       "    </tr>\n",
       "  </tbody>\n",
       "</table>\n",
       "</div>"
      ],
      "text/plain": [
       "       Airline Date_of_Journey    Source Destination Dep_Time  \\\n",
       "0       IndiGo      2019-03-24  Banglore   New Delhi    22:20   \n",
       "1    Air India      2019-05-01   Kolkata    Banglore    05:50   \n",
       "2  Jet Airways      2019-06-09     Delhi      Cochin    09:25   \n",
       "3       IndiGo      2019-05-12   Kolkata    Banglore    18:05   \n",
       "4       IndiGo      2019-03-01  Banglore   New Delhi    16:50   \n",
       "\n",
       "       Arrival_Time Duration Total_Stops  Price  Duration_in_minutes  \\\n",
       "0  22/03/2025 01:10   2h 50m    non-stop   3897                  170   \n",
       "1             13:15   7h 25m     2 stops   7662                  445   \n",
       "2  10/06/2025 04:25      19h     2 stops  13882                 1140   \n",
       "3             23:30   5h 25m      1 stop   6218                  325   \n",
       "4             21:35   4h 45m      1 stop  13302                  285   \n",
       "\n",
       "   Number_of_Stops  \n",
       "0                0  \n",
       "1                2  \n",
       "2                2  \n",
       "3                1  \n",
       "4                1  "
      ]
     },
     "execution_count": 16,
     "metadata": {},
     "output_type": "execute_result"
    }
   ],
   "source": [
    "df.head()"
   ]
  },
  {
   "cell_type": "code",
   "execution_count": 17,
   "id": "ffae40a0",
   "metadata": {},
   "outputs": [
    {
     "name": "stderr",
     "output_type": "stream",
     "text": [
      "C:\\Users\\Mansi\\AppData\\Local\\Temp\\ipykernel_2788\\591442995.py:9: FutureWarning: Setting an item of incompatible dtype is deprecated and will raise an error in a future version of pandas. Value '['22/03/2025' '10/06/2025' '13/03/2025' ... '28/06/2025' '28/05/2025'\n",
      " '13/03/2025']' has dtype incompatible with float64, please explicitly cast to a compatible dtype first.\n",
      "  df.loc[mask_datetime, 'arrival_date'] = split_df[0]\n",
      "C:\\Users\\Mansi\\AppData\\Local\\Temp\\ipykernel_2788\\591442995.py:10: FutureWarning: Setting an item of incompatible dtype is deprecated and will raise an error in a future version of pandas. Value '['01:10' '04:25' '10:25' ... '19:00' '04:25' '21:20']' has dtype incompatible with float64, please explicitly cast to a compatible dtype first.\n",
      "  df.loc[mask_datetime, 'arrival_time'] = split_df[1]\n",
      "C:\\Users\\Mansi\\AppData\\Local\\Temp\\ipykernel_2788\\591442995.py:17: UserWarning: Could not infer format, so each element will be parsed individually, falling back to `dateutil`. To ensure parsing is consistent and as-expected, please specify a format.\n",
      "  df['arrival_time'] = pd.to_datetime(df['arrival_time'], errors='coerce').dt.time\n"
     ]
    }
   ],
   "source": [
    "df['arrival_date'] = np.nan\n",
    "df['arrival_time'] = np.nan\n",
    "\n",
    "\n",
    "mask_datetime = df['Arrival_Time'].str.contains(r'\\d{2}/\\d{2}/\\d{4}', na=False)\n",
    "\n",
    "\n",
    "split_df = df.loc[mask_datetime, 'Arrival_Time'].str.split(' ', n=1, expand=True)\n",
    "df.loc[mask_datetime, 'arrival_date'] = split_df[0]\n",
    "df.loc[mask_datetime, 'arrival_time'] = split_df[1]\n",
    "\n",
    "\n",
    "df.loc[~mask_datetime, 'arrival_time'] = df.loc[~mask_datetime, 'Arrival_Time']\n",
    "\n",
    "\n",
    "df['arrival_date'] = pd.to_datetime(df['arrival_date'], dayfirst=True, errors='coerce').dt.date\n",
    "df['arrival_time'] = pd.to_datetime(df['arrival_time'], errors='coerce').dt.time"
   ]
  },
  {
   "cell_type": "code",
   "execution_count": 18,
   "id": "c8c2df55",
   "metadata": {},
   "outputs": [
    {
     "data": {
      "text/plain": [
       "Arrival_Time\n",
       "19:00               423\n",
       "21:00               360\n",
       "19:15               333\n",
       "16:10               154\n",
       "12:35               122\n",
       "                   ... \n",
       "28/06/2025 00:50      1\n",
       "07/06/2025 22:40      1\n",
       "10/03/2025 06:50      1\n",
       "19/03/2025 00:05      1\n",
       "13/03/2025 21:20      1\n",
       "Name: count, Length: 1343, dtype: int64"
      ]
     },
     "execution_count": 18,
     "metadata": {},
     "output_type": "execute_result"
    }
   ],
   "source": [
    "df['Arrival_Time'].value_counts()"
   ]
  },
  {
   "cell_type": "code",
   "execution_count": 19,
   "id": "f8fa6546",
   "metadata": {},
   "outputs": [],
   "source": [
    "df.drop(['Arrival_Time', 'Duration'], axis=1, inplace=True)"
   ]
  },
  {
   "cell_type": "code",
   "execution_count": 20,
   "id": "7a849638",
   "metadata": {},
   "outputs": [],
   "source": [
    "df.drop(['Total_Stops'], axis=1, inplace=True)"
   ]
  },
  {
   "cell_type": "code",
   "execution_count": 20,
   "id": "325fdc52",
   "metadata": {},
   "outputs": [
    {
     "name": "stdout",
     "output_type": "stream",
     "text": [
      "<class 'datetime.date'>\n"
     ]
    }
   ],
   "source": [
    "print(type(df['arrival_date'].iloc[0]))\n"
   ]
  },
  {
   "cell_type": "code",
   "execution_count": 21,
   "id": "47ac13b5",
   "metadata": {},
   "outputs": [],
   "source": [
    "df['arrival_day'] = df['arrival_date'].apply(lambda d: d.strftime('%m-%d') if pd.notnull(d) else '')"
   ]
  },
  {
   "cell_type": "code",
   "execution_count": 22,
   "id": "c9bf3aa1",
   "metadata": {},
   "outputs": [],
   "source": [
    "# Combine date and departure time to datetime\n",
    "df['Dep_Time'] = pd.to_datetime(df['Dep_Time'], format='%H:%M').dt.time\n",
    "df['Departure_datetime'] = df.apply(lambda row: pd.Timestamp.combine(row['Date_of_Journey'], row['Dep_Time']), axis=1)\n",
    "\n",
    "# Calculate correct arrival datetime using departure + duration\n",
    "df['arrival_datetime'] = df['Departure_datetime'] + pd.to_timedelta(df['Duration_in_minutes'], unit='m')\n",
    "\n",
    "# Extract day and arrival time\n",
    "df['arrival_day'] = df['arrival_datetime'].dt.strftime('%d-%m')\n",
    "df['arrival_time'] = df['arrival_datetime'].dt.strftime('%H:%M:%S')\n",
    "df['arrival_date'] = df['arrival_datetime'].dt.date"
   ]
  },
  {
   "cell_type": "code",
   "execution_count": 23,
   "id": "9ca5db84",
   "metadata": {},
   "outputs": [],
   "source": [
    "df['Date_of_Journey'] = df['Date_of_Journey'].astype(str)\n"
   ]
  },
  {
   "cell_type": "code",
   "execution_count": 24,
   "id": "80065dc2",
   "metadata": {},
   "outputs": [],
   "source": [
    "# drop intermediate columns \n",
    "df.drop(['Departure_datetime', 'arrival_datetime', 'arrival_day'], axis=1, inplace=True)"
   ]
  },
  {
   "cell_type": "code",
   "execution_count": 25,
   "id": "c89a7d9f",
   "metadata": {},
   "outputs": [
    {
     "data": {
      "text/plain": [
       "Airline                0\n",
       "Date_of_Journey        0\n",
       "Source                 0\n",
       "Destination            0\n",
       "Dep_Time               0\n",
       "Total_Stops            0\n",
       "Price                  0\n",
       "Duration_in_minutes    0\n",
       "Number_of_Stops        0\n",
       "arrival_date           0\n",
       "arrival_time           0\n",
       "dtype: int64"
      ]
     },
     "execution_count": 25,
     "metadata": {},
     "output_type": "execute_result"
    }
   ],
   "source": [
    "df.isnull().sum()"
   ]
  },
  {
   "cell_type": "code",
   "execution_count": 26,
   "id": "46517a72",
   "metadata": {},
   "outputs": [
    {
     "name": "stdout",
     "output_type": "stream",
     "text": [
      "Airline\n",
      "Jet Airways                          3849\n",
      "IndiGo                               2053\n",
      "Air India                            1752\n",
      "Multiple carriers                    1196\n",
      "SpiceJet                              818\n",
      "Vistara                               479\n",
      "Air Asia                              319\n",
      "GoAir                                 194\n",
      "Multiple carriers Premium economy      13\n",
      "Jet Airways Business                    6\n",
      "Vistara Premium economy                 3\n",
      "Trujet                                  1\n",
      "Name: count, dtype: int64\n"
     ]
    }
   ],
   "source": [
    "print(df['Airline'].value_counts()) # counts per airline"
   ]
  },
  {
   "cell_type": "code",
   "execution_count": 27,
   "id": "bda3829a",
   "metadata": {},
   "outputs": [
    {
     "name": "stdout",
     "output_type": "stream",
     "text": [
      "Source\n",
      "Delhi       4537\n",
      "Kolkata     2871\n",
      "Banglore    2197\n",
      "Mumbai       697\n",
      "Chennai      381\n",
      "Name: count, dtype: int64\n"
     ]
    }
   ],
   "source": [
    "print(df['Source'].value_counts()) # counts per source"
   ]
  },
  {
   "cell_type": "code",
   "execution_count": 28,
   "id": "e3761b75",
   "metadata": {},
   "outputs": [
    {
     "name": "stdout",
     "output_type": "stream",
     "text": [
      "Airline                  12\n",
      "Date_of_Journey          40\n",
      "Source                    5\n",
      "Destination               6\n",
      "Dep_Time                222\n",
      "Total_Stops               5\n",
      "Price                  1870\n",
      "Duration_in_minutes     368\n",
      "Number_of_Stops           5\n",
      "arrival_date             92\n",
      "arrival_time            224\n",
      "dtype: int64\n"
     ]
    }
   ],
   "source": [
    "print(df.nunique())"
   ]
  },
  {
   "cell_type": "code",
   "execution_count": 29,
   "id": "3cc6493d",
   "metadata": {},
   "outputs": [
    {
     "name": "stdout",
     "output_type": "stream",
     "text": [
      "Airline\n",
      "Air Asia                              5590.260188\n",
      "Air India                             9611.210616\n",
      "GoAir                                 5861.056701\n",
      "IndiGo                                5673.682903\n",
      "Jet Airways                          11643.923357\n",
      "Jet Airways Business                 58358.666667\n",
      "Multiple carriers                    10902.678094\n",
      "Multiple carriers Premium economy    11418.846154\n",
      "SpiceJet                              4338.284841\n",
      "Trujet                                4140.000000\n",
      "Vistara                               7796.348643\n",
      "Vistara Premium economy               8962.333333\n",
      "Name: Price, dtype: float64\n"
     ]
    }
   ],
   "source": [
    "# Average Price per Airline\n",
    "print(df.groupby('Airline')['Price'].mean())"
   ]
  },
  {
   "cell_type": "code",
   "execution_count": 30,
   "id": "c7daf716",
   "metadata": {},
   "outputs": [
    {
     "data": {
      "image/png": "[encoded data removed]",
      "text/plain": [
       "<Figure size 1200x600 with 1 Axes>"
      ]
     },
     "metadata": {},
     "output_type": "display_data"
    }
   ],
   "source": [
    "import matplotlib.pyplot as plt\n",
    "\n",
    "avg_prices = df.groupby('Airline')['Price'].mean()\n",
    "avg_prices.plot(kind='bar', figsize=(12,6), color='skyblue')\n",
    "plt.ylabel('Average Price')\n",
    "plt.title('Average Price per Airline')\n",
    "plt.xticks(rotation=45, ha='right')\n",
    "plt.tight_layout()\n",
    "plt.show()"
   ]
  },
  {
   "cell_type": "code",
   "execution_count": 31,
   "id": "38ec754f",
   "metadata": {},
   "outputs": [
    {
     "name": "stdout",
     "output_type": "stream",
     "text": [
      "Source    Destination\n",
      "Delhi     Cochin         4537\n",
      "Kolkata   Banglore       2871\n",
      "Banglore  Delhi          1265\n",
      "          New Delhi       932\n",
      "Mumbai    Hyderabad       697\n",
      "Chennai   Kolkata         381\n",
      "dtype: int64\n"
     ]
    }
   ],
   "source": [
    "# Count flights per route\n",
    "print(df.groupby(['Source', 'Destination']).size().sort_values(ascending=False))\n"
   ]
  },
  {
   "cell_type": "code",
   "execution_count": 32,
   "id": "d6a314d8",
   "metadata": {},
   "outputs": [
    {
     "data": {
      "text/plain": [
       "<function matplotlib.pyplot.show(close=None, block=None)>"
      ]
     },
     "execution_count": 32,
     "metadata": {},
     "output_type": "execute_result"
    },
    {
     "data": {
      "image/png": "[encoded data removed]",
      "text/plain": [
       "<Figure size 1000x600 with 1 Axes>"
      ]
     },
     "metadata": {},
     "output_type": "display_data"
    }
   ],
   "source": [
    "import matplotlib.pyplot as plt\n",
    "\n",
    "route_counts = df.groupby(['Source', 'Destination']).size().sort_values(ascending=False)\n",
    "route_counts.plot(kind='barh', figsize=(10,6), color='skyblue')\n",
    "plt.xlabel('Number_of_Flights')\n",
    "plt.ylabel('Route (Source - Destination)')\n",
    "plt.title('Flight Counts per Route')\n",
    "plt.tight_layout()\n",
    "plt.show"
   ]
  },
  {
   "cell_type": "code",
   "execution_count": 34,
   "id": "d783f450",
   "metadata": {},
   "outputs": [
    {
     "name": "stdout",
     "output_type": "stream",
     "text": [
      "                              Airline  min   max\n",
      "0                            Air Asia  150   955\n",
      "1                           Air India    5  2480\n",
      "2                               GoAir  155   555\n",
      "3                              IndiGo   85   985\n",
      "4                         Jet Airways   80  2860\n",
      "5                Jet Airways Business  280   500\n",
      "6                   Multiple carriers  375   935\n",
      "7   Multiple carriers Premium economy  395   900\n",
      "8                            SpiceJet   80   520\n",
      "9                              Trujet  195   195\n",
      "10                            Vistara  135  1750\n",
      "11            Vistara Premium economy  135   170\n"
     ]
    }
   ],
   "source": [
    "# min/max Duration per Airline\n",
    "print(df.groupby('Airline')['Duration_in_minutes'].agg(['min', 'max']).reset_index())"
   ]
  },
  {
   "cell_type": "code",
   "execution_count": 35,
   "id": "41fed268",
   "metadata": {},
   "outputs": [
    {
     "name": "stdout",
     "output_type": "stream",
     "text": [
      "                    Airline Date_of_Journey    Source Destination  Dep_Time  \\\n",
      "2924   Jet Airways Business      2019-03-01  Banglore   New Delhi  05:45:00   \n",
      "5372   Jet Airways Business      2019-03-01  Banglore   New Delhi  05:45:00   \n",
      "10364  Jet Airways Business      2019-03-01  Banglore   New Delhi  09:45:00   \n",
      "5439            Jet Airways      2019-03-01  Banglore   New Delhi  16:55:00   \n",
      "2618            Jet Airways      2019-03-18  Banglore   New Delhi  22:50:00   \n",
      "1478            Jet Airways      2019-03-18  Banglore   New Delhi  18:40:00   \n",
      "9715   Jet Airways Business      2019-03-06     Delhi      Cochin  20:05:00   \n",
      "657    Jet Airways Business      2019-03-01  Banglore   New Delhi  05:45:00   \n",
      "7351   Jet Airways Business      2019-03-03     Delhi      Cochin  20:05:00   \n",
      "396       Multiple carriers      2019-03-01     Delhi      Cochin  12:50:00   \n",
      "\n",
      "       Price  Duration_in_minutes  Number_of_Stops arrival_date arrival_time  \n",
      "2924   79512                  340                1   2019-03-01     11:25:00  \n",
      "5372   62427                  400                1   2019-03-01     12:25:00  \n",
      "10364  57209                  280                1   2019-03-01     14:25:00  \n",
      "5439   54826                  365                1   2019-03-01     23:00:00  \n",
      "2618   54826                  375                1   2019-03-19     05:05:00  \n",
      "1478   54826                  365                1   2019-03-19     00:45:00  \n",
      "9715   52285                  500                2   2019-03-07     04:25:00  \n",
      "657    52229                  300                1   2019-03-01     10:45:00  \n",
      "7351   46490                  500                2   2019-03-04     04:25:00  \n",
      "396    36983                  385                1   2019-03-01     19:15:00  \n"
     ]
    }
   ],
   "source": [
    "# Top 10 Most Expensive Flight\n",
    "print(df.sort_values('Price', ascending=False).head(10))"
   ]
  },
  {
   "cell_type": "code",
   "execution_count": 36,
   "id": "f1a37551",
   "metadata": {},
   "outputs": [
    {
     "data": {
      "image/png": "[encoded data removed]",
      "text/plain": [
       "<Figure size 640x480 with 1 Axes>"
      ]
     },
     "metadata": {},
     "output_type": "display_data"
    }
   ],
   "source": [
    "import matplotlib.pyplot as plt\n",
    "\n",
    "df['Price'].hist(bins=30)\n",
    "plt.title('Price Distribution')\n",
    "plt.xlabel('Price')\n",
    "plt.ylabel('Number of Flights')\n",
    "plt.show()\n"
   ]
  },
  {
   "cell_type": "code",
   "execution_count": 37,
   "id": "a04ea936",
   "metadata": {},
   "outputs": [
    {
     "data": {
      "image/png": "[encoded data removed]",
      "text/plain": [
       "<Figure size 1200x800 with 2 Axes>"
      ]
     },
     "metadata": {},
     "output_type": "display_data"
    }
   ],
   "source": [
    "import seaborn as sns\n",
    "import matplotlib.pyplot as plt\n",
    "\n",
    "corr = df.corr(numeric_only=True)\n",
    "plt.figure(figsize=(12,8)) \n",
    "sns.heatmap(corr, annot=True, cmap='coolwarm')\n",
    "plt.title('Feature Correlation Heatmap')\n",
    "plt.show()\n"
   ]
  },
  {
   "cell_type": "code",
   "execution_count": 38,
   "id": "aa15701e",
   "metadata": {},
   "outputs": [
    {
     "data": {
      "image/png": "[encoded data removed]",
      "text/plain": [
       "<Figure size 1000x800 with 4 Axes>"
      ]
     },
     "metadata": {},
     "output_type": "display_data"
    }
   ],
   "source": [
    "df[['Price', 'Duration_in_minutes', 'Number_of_Stops']].hist(bins=30, figsize=(10,8))\n",
    "plt.suptitle('Feature Distributions')\n",
    "plt.show()"
   ]
  },
  {
   "cell_type": "code",
   "execution_count": 33,
   "id": "429ee44c",
   "metadata": {},
   "outputs": [],
   "source": [
    "df['Journey_year'] = pd.to_datetime(df['Date_of_Journey']).dt.year\n",
    "df['Journey_month'] = pd.to_datetime(df['Date_of_Journey']).dt.month\n",
    "df['Journey_day'] = pd.to_datetime(df['Date_of_Journey']).dt.day"
   ]
  },
  {
   "cell_type": "code",
   "execution_count": 34,
   "id": "586c1675",
   "metadata": {},
   "outputs": [],
   "source": [
    "df['Dep_hour'] = pd.to_datetime(df['Dep_Time'], format='%H:%M:%S').dt.hour\n",
    "df['Dep_minute'] = pd.to_datetime(df['Dep_Time'], format='%H:%M:%S').dt.minute\n"
   ]
  },
  {
   "cell_type": "code",
   "execution_count": 35,
   "id": "a3c3a95d",
   "metadata": {},
   "outputs": [],
   "source": [
    "df['Arr_hour'] = pd.to_datetime(df['arrival_time'], format='%H:%M:%S').dt.hour\n",
    "df['Arr_minute'] = pd.to_datetime(df['arrival_time'], format='%H:%M:%S').dt.minute\n"
   ]
  },
  {
   "cell_type": "code",
   "execution_count": 36,
   "id": "279012db",
   "metadata": {},
   "outputs": [
    {
     "data": {
      "text/html": [
       "<div>\n",
       "<style scoped>\n",
       "    .dataframe tbody tr th:only-of-type {\n",
       "        vertical-align: middle;\n",
       "    }\n",
       "\n",
       "    .dataframe tbody tr th {\n",
       "        vertical-align: top;\n",
       "    }\n",
       "\n",
       "    .dataframe thead th {\n",
       "        text-align: right;\n",
       "    }\n",
       "</style>\n",
       "<table border=\"1\" class=\"dataframe\">\n",
       "  <thead>\n",
       "    <tr style=\"text-align: right;\">\n",
       "      <th></th>\n",
       "      <th>Airline</th>\n",
       "      <th>Date_of_Journey</th>\n",
       "      <th>Source</th>\n",
       "      <th>Destination</th>\n",
       "      <th>Dep_Time</th>\n",
       "      <th>Total_Stops</th>\n",
       "      <th>Price</th>\n",
       "      <th>Duration_in_minutes</th>\n",
       "      <th>Number_of_Stops</th>\n",
       "      <th>arrival_date</th>\n",
       "      <th>arrival_time</th>\n",
       "      <th>Journey_year</th>\n",
       "      <th>Journey_month</th>\n",
       "      <th>Journey_day</th>\n",
       "      <th>Dep_hour</th>\n",
       "      <th>Dep_minute</th>\n",
       "      <th>Arr_hour</th>\n",
       "      <th>Arr_minute</th>\n",
       "    </tr>\n",
       "  </thead>\n",
       "  <tbody>\n",
       "    <tr>\n",
       "      <th>0</th>\n",
       "      <td>IndiGo</td>\n",
       "      <td>2019-03-24</td>\n",
       "      <td>Banglore</td>\n",
       "      <td>New Delhi</td>\n",
       "      <td>22:20:00</td>\n",
       "      <td>non-stop</td>\n",
       "      <td>3897</td>\n",
       "      <td>170</td>\n",
       "      <td>0</td>\n",
       "      <td>2019-03-25</td>\n",
       "      <td>01:10:00</td>\n",
       "      <td>2019</td>\n",
       "      <td>3</td>\n",
       "      <td>24</td>\n",
       "      <td>22</td>\n",
       "      <td>20</td>\n",
       "      <td>1</td>\n",
       "      <td>10</td>\n",
       "    </tr>\n",
       "    <tr>\n",
       "      <th>1</th>\n",
       "      <td>Air India</td>\n",
       "      <td>2019-05-01</td>\n",
       "      <td>Kolkata</td>\n",
       "      <td>Banglore</td>\n",
       "      <td>05:50:00</td>\n",
       "      <td>2 stops</td>\n",
       "      <td>7662</td>\n",
       "      <td>445</td>\n",
       "      <td>2</td>\n",
       "      <td>2019-05-01</td>\n",
       "      <td>13:15:00</td>\n",
       "      <td>2019</td>\n",
       "      <td>5</td>\n",
       "      <td>1</td>\n",
       "      <td>5</td>\n",
       "      <td>50</td>\n",
       "      <td>13</td>\n",
       "      <td>15</td>\n",
       "    </tr>\n",
       "    <tr>\n",
       "      <th>2</th>\n",
       "      <td>Jet Airways</td>\n",
       "      <td>2019-06-09</td>\n",
       "      <td>Delhi</td>\n",
       "      <td>Cochin</td>\n",
       "      <td>09:25:00</td>\n",
       "      <td>2 stops</td>\n",
       "      <td>13882</td>\n",
       "      <td>1140</td>\n",
       "      <td>2</td>\n",
       "      <td>2019-06-10</td>\n",
       "      <td>04:25:00</td>\n",
       "      <td>2019</td>\n",
       "      <td>6</td>\n",
       "      <td>9</td>\n",
       "      <td>9</td>\n",
       "      <td>25</td>\n",
       "      <td>4</td>\n",
       "      <td>25</td>\n",
       "    </tr>\n",
       "    <tr>\n",
       "      <th>3</th>\n",
       "      <td>IndiGo</td>\n",
       "      <td>2019-05-12</td>\n",
       "      <td>Kolkata</td>\n",
       "      <td>Banglore</td>\n",
       "      <td>18:05:00</td>\n",
       "      <td>1 stop</td>\n",
       "      <td>6218</td>\n",
       "      <td>325</td>\n",
       "      <td>1</td>\n",
       "      <td>2019-05-12</td>\n",
       "      <td>23:30:00</td>\n",
       "      <td>2019</td>\n",
       "      <td>5</td>\n",
       "      <td>12</td>\n",
       "      <td>18</td>\n",
       "      <td>5</td>\n",
       "      <td>23</td>\n",
       "      <td>30</td>\n",
       "    </tr>\n",
       "    <tr>\n",
       "      <th>4</th>\n",
       "      <td>IndiGo</td>\n",
       "      <td>2019-03-01</td>\n",
       "      <td>Banglore</td>\n",
       "      <td>New Delhi</td>\n",
       "      <td>16:50:00</td>\n",
       "      <td>1 stop</td>\n",
       "      <td>13302</td>\n",
       "      <td>285</td>\n",
       "      <td>1</td>\n",
       "      <td>2019-03-01</td>\n",
       "      <td>21:35:00</td>\n",
       "      <td>2019</td>\n",
       "      <td>3</td>\n",
       "      <td>1</td>\n",
       "      <td>16</td>\n",
       "      <td>50</td>\n",
       "      <td>21</td>\n",
       "      <td>35</td>\n",
       "    </tr>\n",
       "  </tbody>\n",
       "</table>\n",
       "</div>"
      ],
      "text/plain": [
       "       Airline Date_of_Journey    Source Destination  Dep_Time Total_Stops  \\\n",
       "0       IndiGo      2019-03-24  Banglore   New Delhi  22:20:00    non-stop   \n",
       "1    Air India      2019-05-01   Kolkata    Banglore  05:50:00     2 stops   \n",
       "2  Jet Airways      2019-06-09     Delhi      Cochin  09:25:00     2 stops   \n",
       "3       IndiGo      2019-05-12   Kolkata    Banglore  18:05:00      1 stop   \n",
       "4       IndiGo      2019-03-01  Banglore   New Delhi  16:50:00      1 stop   \n",
       "\n",
       "   Price  Duration_in_minutes  Number_of_Stops arrival_date arrival_time  \\\n",
       "0   3897                  170                0   2019-03-25     01:10:00   \n",
       "1   7662                  445                2   2019-05-01     13:15:00   \n",
       "2  13882                 1140                2   2019-06-10     04:25:00   \n",
       "3   6218                  325                1   2019-05-12     23:30:00   \n",
       "4  13302                  285                1   2019-03-01     21:35:00   \n",
       "\n",
       "   Journey_year  Journey_month  Journey_day  Dep_hour  Dep_minute  Arr_hour  \\\n",
       "0          2019              3           24        22          20         1   \n",
       "1          2019              5            1         5          50        13   \n",
       "2          2019              6            9         9          25         4   \n",
       "3          2019              5           12        18           5        23   \n",
       "4          2019              3            1        16          50        21   \n",
       "\n",
       "   Arr_minute  \n",
       "0          10  \n",
       "1          15  \n",
       "2          25  \n",
       "3          30  \n",
       "4          35  "
      ]
     },
     "execution_count": 36,
     "metadata": {},
     "output_type": "execute_result"
    }
   ],
   "source": [
    "df.head(5)"
   ]
  },
  {
   "cell_type": "code",
   "execution_count": 37,
   "id": "3fe3bc0b",
   "metadata": {},
   "outputs": [
    {
     "data": {
      "text/html": [
       "<div>\n",
       "<style scoped>\n",
       "    .dataframe tbody tr th:only-of-type {\n",
       "        vertical-align: middle;\n",
       "    }\n",
       "\n",
       "    .dataframe tbody tr th {\n",
       "        vertical-align: top;\n",
       "    }\n",
       "\n",
       "    .dataframe thead th {\n",
       "        text-align: right;\n",
       "    }\n",
       "</style>\n",
       "<table border=\"1\" class=\"dataframe\">\n",
       "  <thead>\n",
       "    <tr style=\"text-align: right;\">\n",
       "      <th></th>\n",
       "      <th>Airline</th>\n",
       "      <th>Source</th>\n",
       "      <th>Destination</th>\n",
       "      <th>Total_Stops</th>\n",
       "      <th>Price</th>\n",
       "      <th>Duration_in_minutes</th>\n",
       "      <th>Number_of_Stops</th>\n",
       "      <th>Journey_year</th>\n",
       "      <th>Journey_month</th>\n",
       "      <th>Journey_day</th>\n",
       "      <th>Dep_hour</th>\n",
       "      <th>Dep_minute</th>\n",
       "      <th>Arr_hour</th>\n",
       "      <th>Arr_minute</th>\n",
       "    </tr>\n",
       "  </thead>\n",
       "  <tbody>\n",
       "    <tr>\n",
       "      <th>0</th>\n",
       "      <td>IndiGo</td>\n",
       "      <td>Banglore</td>\n",
       "      <td>New Delhi</td>\n",
       "      <td>non-stop</td>\n",
       "      <td>3897</td>\n",
       "      <td>170</td>\n",
       "      <td>0</td>\n",
       "      <td>2019</td>\n",
       "      <td>3</td>\n",
       "      <td>24</td>\n",
       "      <td>22</td>\n",
       "      <td>20</td>\n",
       "      <td>1</td>\n",
       "      <td>10</td>\n",
       "    </tr>\n",
       "    <tr>\n",
       "      <th>1</th>\n",
       "      <td>Air India</td>\n",
       "      <td>Kolkata</td>\n",
       "      <td>Banglore</td>\n",
       "      <td>2 stops</td>\n",
       "      <td>7662</td>\n",
       "      <td>445</td>\n",
       "      <td>2</td>\n",
       "      <td>2019</td>\n",
       "      <td>5</td>\n",
       "      <td>1</td>\n",
       "      <td>5</td>\n",
       "      <td>50</td>\n",
       "      <td>13</td>\n",
       "      <td>15</td>\n",
       "    </tr>\n",
       "    <tr>\n",
       "      <th>2</th>\n",
       "      <td>Jet Airways</td>\n",
       "      <td>Delhi</td>\n",
       "      <td>Cochin</td>\n",
       "      <td>2 stops</td>\n",
       "      <td>13882</td>\n",
       "      <td>1140</td>\n",
       "      <td>2</td>\n",
       "      <td>2019</td>\n",
       "      <td>6</td>\n",
       "      <td>9</td>\n",
       "      <td>9</td>\n",
       "      <td>25</td>\n",
       "      <td>4</td>\n",
       "      <td>25</td>\n",
       "    </tr>\n",
       "    <tr>\n",
       "      <th>3</th>\n",
       "      <td>IndiGo</td>\n",
       "      <td>Kolkata</td>\n",
       "      <td>Banglore</td>\n",
       "      <td>1 stop</td>\n",
       "      <td>6218</td>\n",
       "      <td>325</td>\n",
       "      <td>1</td>\n",
       "      <td>2019</td>\n",
       "      <td>5</td>\n",
       "      <td>12</td>\n",
       "      <td>18</td>\n",
       "      <td>5</td>\n",
       "      <td>23</td>\n",
       "      <td>30</td>\n",
       "    </tr>\n",
       "    <tr>\n",
       "      <th>4</th>\n",
       "      <td>IndiGo</td>\n",
       "      <td>Banglore</td>\n",
       "      <td>New Delhi</td>\n",
       "      <td>1 stop</td>\n",
       "      <td>13302</td>\n",
       "      <td>285</td>\n",
       "      <td>1</td>\n",
       "      <td>2019</td>\n",
       "      <td>3</td>\n",
       "      <td>1</td>\n",
       "      <td>16</td>\n",
       "      <td>50</td>\n",
       "      <td>21</td>\n",
       "      <td>35</td>\n",
       "    </tr>\n",
       "    <tr>\n",
       "      <th>...</th>\n",
       "      <td>...</td>\n",
       "      <td>...</td>\n",
       "      <td>...</td>\n",
       "      <td>...</td>\n",
       "      <td>...</td>\n",
       "      <td>...</td>\n",
       "      <td>...</td>\n",
       "      <td>...</td>\n",
       "      <td>...</td>\n",
       "      <td>...</td>\n",
       "      <td>...</td>\n",
       "      <td>...</td>\n",
       "      <td>...</td>\n",
       "      <td>...</td>\n",
       "    </tr>\n",
       "    <tr>\n",
       "      <th>10678</th>\n",
       "      <td>Air Asia</td>\n",
       "      <td>Kolkata</td>\n",
       "      <td>Banglore</td>\n",
       "      <td>non-stop</td>\n",
       "      <td>4107</td>\n",
       "      <td>150</td>\n",
       "      <td>0</td>\n",
       "      <td>2019</td>\n",
       "      <td>4</td>\n",
       "      <td>9</td>\n",
       "      <td>19</td>\n",
       "      <td>55</td>\n",
       "      <td>22</td>\n",
       "      <td>25</td>\n",
       "    </tr>\n",
       "    <tr>\n",
       "      <th>10679</th>\n",
       "      <td>Air India</td>\n",
       "      <td>Kolkata</td>\n",
       "      <td>Banglore</td>\n",
       "      <td>non-stop</td>\n",
       "      <td>4145</td>\n",
       "      <td>155</td>\n",
       "      <td>0</td>\n",
       "      <td>2019</td>\n",
       "      <td>4</td>\n",
       "      <td>27</td>\n",
       "      <td>20</td>\n",
       "      <td>45</td>\n",
       "      <td>23</td>\n",
       "      <td>20</td>\n",
       "    </tr>\n",
       "    <tr>\n",
       "      <th>10680</th>\n",
       "      <td>Jet Airways</td>\n",
       "      <td>Banglore</td>\n",
       "      <td>Delhi</td>\n",
       "      <td>non-stop</td>\n",
       "      <td>7229</td>\n",
       "      <td>180</td>\n",
       "      <td>0</td>\n",
       "      <td>2019</td>\n",
       "      <td>4</td>\n",
       "      <td>27</td>\n",
       "      <td>8</td>\n",
       "      <td>20</td>\n",
       "      <td>11</td>\n",
       "      <td>20</td>\n",
       "    </tr>\n",
       "    <tr>\n",
       "      <th>10681</th>\n",
       "      <td>Vistara</td>\n",
       "      <td>Banglore</td>\n",
       "      <td>New Delhi</td>\n",
       "      <td>non-stop</td>\n",
       "      <td>12648</td>\n",
       "      <td>160</td>\n",
       "      <td>0</td>\n",
       "      <td>2019</td>\n",
       "      <td>3</td>\n",
       "      <td>1</td>\n",
       "      <td>11</td>\n",
       "      <td>30</td>\n",
       "      <td>14</td>\n",
       "      <td>10</td>\n",
       "    </tr>\n",
       "    <tr>\n",
       "      <th>10682</th>\n",
       "      <td>Air India</td>\n",
       "      <td>Delhi</td>\n",
       "      <td>Cochin</td>\n",
       "      <td>2 stops</td>\n",
       "      <td>11753</td>\n",
       "      <td>500</td>\n",
       "      <td>2</td>\n",
       "      <td>2019</td>\n",
       "      <td>5</td>\n",
       "      <td>9</td>\n",
       "      <td>10</td>\n",
       "      <td>55</td>\n",
       "      <td>19</td>\n",
       "      <td>15</td>\n",
       "    </tr>\n",
       "  </tbody>\n",
       "</table>\n",
       "<p>10683 rows × 14 columns</p>\n",
       "</div>"
      ],
      "text/plain": [
       "           Airline    Source Destination Total_Stops  Price  \\\n",
       "0           IndiGo  Banglore   New Delhi    non-stop   3897   \n",
       "1        Air India   Kolkata    Banglore     2 stops   7662   \n",
       "2      Jet Airways     Delhi      Cochin     2 stops  13882   \n",
       "3           IndiGo   Kolkata    Banglore      1 stop   6218   \n",
       "4           IndiGo  Banglore   New Delhi      1 stop  13302   \n",
       "...            ...       ...         ...         ...    ...   \n",
       "10678     Air Asia   Kolkata    Banglore    non-stop   4107   \n",
       "10679    Air India   Kolkata    Banglore    non-stop   4145   \n",
       "10680  Jet Airways  Banglore       Delhi    non-stop   7229   \n",
       "10681      Vistara  Banglore   New Delhi    non-stop  12648   \n",
       "10682    Air India     Delhi      Cochin     2 stops  11753   \n",
       "\n",
       "       Duration_in_minutes  Number_of_Stops  Journey_year  Journey_month  \\\n",
       "0                      170                0          2019              3   \n",
       "1                      445                2          2019              5   \n",
       "2                     1140                2          2019              6   \n",
       "3                      325                1          2019              5   \n",
       "4                      285                1          2019              3   \n",
       "...                    ...              ...           ...            ...   \n",
       "10678                  150                0          2019              4   \n",
       "10679                  155                0          2019              4   \n",
       "10680                  180                0          2019              4   \n",
       "10681                  160                0          2019              3   \n",
       "10682                  500                2          2019              5   \n",
       "\n",
       "       Journey_day  Dep_hour  Dep_minute  Arr_hour  Arr_minute  \n",
       "0               24        22          20         1          10  \n",
       "1                1         5          50        13          15  \n",
       "2                9         9          25         4          25  \n",
       "3               12        18           5        23          30  \n",
       "4                1        16          50        21          35  \n",
       "...            ...       ...         ...       ...         ...  \n",
       "10678            9        19          55        22          25  \n",
       "10679           27        20          45        23          20  \n",
       "10680           27         8          20        11          20  \n",
       "10681            1        11          30        14          10  \n",
       "10682            9        10          55        19          15  \n",
       "\n",
       "[10683 rows x 14 columns]"
      ]
     },
     "execution_count": 37,
     "metadata": {},
     "output_type": "execute_result"
    }
   ],
   "source": [
    "df.drop(['Date_of_Journey', 'Dep_Time', 'arrival_date', 'arrival_time'], axis=1, inplace=True)\n",
    "df\n"
   ]
  },
  {
   "cell_type": "code",
   "execution_count": 38,
   "id": "b10f4684",
   "metadata": {},
   "outputs": [],
   "source": [
    "df.to_csv('Cleaned_Flight_price data.csv', index=False)"
   ]
  },
  {
   "cell_type": "code",
   "execution_count": 39,
   "id": "19bfe2a6",
   "metadata": {},
   "outputs": [
    {
     "data": {
      "text/html": [
       "<div>\n",
       "<style scoped>\n",
       "    .dataframe tbody tr th:only-of-type {\n",
       "        vertical-align: middle;\n",
       "    }\n",
       "\n",
       "    .dataframe tbody tr th {\n",
       "        vertical-align: top;\n",
       "    }\n",
       "\n",
       "    .dataframe thead th {\n",
       "        text-align: right;\n",
       "    }\n",
       "</style>\n",
       "<table border=\"1\" class=\"dataframe\">\n",
       "  <thead>\n",
       "    <tr style=\"text-align: right;\">\n",
       "      <th></th>\n",
       "      <th>Airline</th>\n",
       "      <th>Source</th>\n",
       "      <th>Destination</th>\n",
       "      <th>Total_Stops</th>\n",
       "      <th>Price</th>\n",
       "      <th>Duration_in_minutes</th>\n",
       "      <th>Number_of_Stops</th>\n",
       "      <th>Journey_year</th>\n",
       "      <th>Journey_month</th>\n",
       "      <th>Journey_day</th>\n",
       "      <th>Dep_hour</th>\n",
       "      <th>Dep_minute</th>\n",
       "      <th>Arr_hour</th>\n",
       "      <th>Arr_minute</th>\n",
       "    </tr>\n",
       "  </thead>\n",
       "  <tbody>\n",
       "    <tr>\n",
       "      <th>0</th>\n",
       "      <td>IndiGo</td>\n",
       "      <td>Banglore</td>\n",
       "      <td>New Delhi</td>\n",
       "      <td>non-stop</td>\n",
       "      <td>3897</td>\n",
       "      <td>170</td>\n",
       "      <td>0</td>\n",
       "      <td>2019</td>\n",
       "      <td>3</td>\n",
       "      <td>24</td>\n",
       "      <td>22</td>\n",
       "      <td>20</td>\n",
       "      <td>1</td>\n",
       "      <td>10</td>\n",
       "    </tr>\n",
       "    <tr>\n",
       "      <th>1</th>\n",
       "      <td>Air India</td>\n",
       "      <td>Kolkata</td>\n",
       "      <td>Banglore</td>\n",
       "      <td>2 stops</td>\n",
       "      <td>7662</td>\n",
       "      <td>445</td>\n",
       "      <td>2</td>\n",
       "      <td>2019</td>\n",
       "      <td>5</td>\n",
       "      <td>1</td>\n",
       "      <td>5</td>\n",
       "      <td>50</td>\n",
       "      <td>13</td>\n",
       "      <td>15</td>\n",
       "    </tr>\n",
       "    <tr>\n",
       "      <th>2</th>\n",
       "      <td>Jet Airways</td>\n",
       "      <td>Delhi</td>\n",
       "      <td>Cochin</td>\n",
       "      <td>2 stops</td>\n",
       "      <td>13882</td>\n",
       "      <td>1140</td>\n",
       "      <td>2</td>\n",
       "      <td>2019</td>\n",
       "      <td>6</td>\n",
       "      <td>9</td>\n",
       "      <td>9</td>\n",
       "      <td>25</td>\n",
       "      <td>4</td>\n",
       "      <td>25</td>\n",
       "    </tr>\n",
       "    <tr>\n",
       "      <th>3</th>\n",
       "      <td>IndiGo</td>\n",
       "      <td>Kolkata</td>\n",
       "      <td>Banglore</td>\n",
       "      <td>1 stop</td>\n",
       "      <td>6218</td>\n",
       "      <td>325</td>\n",
       "      <td>1</td>\n",
       "      <td>2019</td>\n",
       "      <td>5</td>\n",
       "      <td>12</td>\n",
       "      <td>18</td>\n",
       "      <td>5</td>\n",
       "      <td>23</td>\n",
       "      <td>30</td>\n",
       "    </tr>\n",
       "    <tr>\n",
       "      <th>4</th>\n",
       "      <td>IndiGo</td>\n",
       "      <td>Banglore</td>\n",
       "      <td>New Delhi</td>\n",
       "      <td>1 stop</td>\n",
       "      <td>13302</td>\n",
       "      <td>285</td>\n",
       "      <td>1</td>\n",
       "      <td>2019</td>\n",
       "      <td>3</td>\n",
       "      <td>1</td>\n",
       "      <td>16</td>\n",
       "      <td>50</td>\n",
       "      <td>21</td>\n",
       "      <td>35</td>\n",
       "    </tr>\n",
       "  </tbody>\n",
       "</table>\n",
       "</div>"
      ],
      "text/plain": [
       "       Airline    Source Destination Total_Stops  Price  Duration_in_minutes  \\\n",
       "0       IndiGo  Banglore   New Delhi    non-stop   3897                  170   \n",
       "1    Air India   Kolkata    Banglore     2 stops   7662                  445   \n",
       "2  Jet Airways     Delhi      Cochin     2 stops  13882                 1140   \n",
       "3       IndiGo   Kolkata    Banglore      1 stop   6218                  325   \n",
       "4       IndiGo  Banglore   New Delhi      1 stop  13302                  285   \n",
       "\n",
       "   Number_of_Stops  Journey_year  Journey_month  Journey_day  Dep_hour  \\\n",
       "0                0          2019              3           24        22   \n",
       "1                2          2019              5            1         5   \n",
       "2                2          2019              6            9         9   \n",
       "3                1          2019              5           12        18   \n",
       "4                1          2019              3            1        16   \n",
       "\n",
       "   Dep_minute  Arr_hour  Arr_minute  \n",
       "0          20         1          10  \n",
       "1          50        13          15  \n",
       "2          25         4          25  \n",
       "3           5        23          30  \n",
       "4          50        21          35  "
      ]
     },
     "execution_count": 39,
     "metadata": {},
     "output_type": "execute_result"
    }
   ],
   "source": [
    "dF = pd.read_csv('Cleaned_Flight_price data.csv')\n",
    "dF.head()"
   ]
  },
  {
   "cell_type": "code",
   "execution_count": 58,
   "id": "7c1231af",
   "metadata": {},
   "outputs": [
    {
     "name": "stdout",
     "output_type": "stream",
     "text": [
      "Airline                  12\n",
      "Source                    5\n",
      "Destination               6\n",
      "Total_Stops               5\n",
      "Price                  1870\n",
      "Duration_in_minutes     368\n",
      "Number_of_Stops           5\n",
      "Journey_year              1\n",
      "Journey_month             4\n",
      "Journey_day              10\n",
      "Dep_hour                 24\n",
      "Dep_minute               12\n",
      "Arr_hour                 24\n",
      "Arr_minute               12\n",
      "dtype: int64\n"
     ]
    }
   ],
   "source": [
    "print(df.nunique())"
   ]
  },
  {
   "cell_type": "code",
   "execution_count": 40,
   "id": "2e7ea15f",
   "metadata": {},
   "outputs": [],
   "source": [
    "from sklearn.compose import ColumnTransformer\n",
    "from sklearn.preprocessing import OneHotEncoder, StandardScaler, FunctionTransformer\n",
    "nominal_data = ['Source', 'Destination', 'Airline'] #OHE\n",
    "scaling_cols = ['Duration_in_minutes', 'Number_of_Stops', 'Journey_year', 'Journey_month', 'Journey_day', 'Dep_hour', 'Dep_minute', 'Arr_hour', 'Arr_minute']\n",
    "\n",
    "# Define transformations\n",
    "preprocessor = ColumnTransformer(\n",
    "    transformers = [\n",
    "        ('ohe', OneHotEncoder(drop='first', handle_unknown='ignore'), nominal_data), \n",
    "        ('scaler', StandardScaler(), scaling_cols)\n",
    "    ]\n",
    ")\n"
   ]
  },
  {
   "cell_type": "code",
   "execution_count": 41,
   "id": "437bd32a",
   "metadata": {},
   "outputs": [],
   "source": [
    "X = dF.drop('Price', axis='columns')\n"
   ]
  },
  {
   "cell_type": "code",
   "execution_count": 42,
   "id": "7bd667d5",
   "metadata": {},
   "outputs": [],
   "source": [
    "y = dF.Price\n"
   ]
  },
  {
   "cell_type": "code",
   "execution_count": 43,
   "id": "817589a0",
   "metadata": {},
   "outputs": [],
   "source": [
    "from sklearn.model_selection import train_test_split\n",
    "\n",
    "X_train, X_test, y_train, y_test = train_test_split(X, y, test_size=0.25, random_state=42)"
   ]
  },
  {
   "cell_type": "code",
   "execution_count": 44,
   "id": "02b785f9",
   "metadata": {},
   "outputs": [
    {
     "data": {
      "text/plain": [
       "Index(['Airline', 'Source', 'Destination', 'Total_Stops',\n",
       "       'Duration_in_minutes', 'Number_of_Stops', 'Journey_year',\n",
       "       'Journey_month', 'Journey_day', 'Dep_hour', 'Dep_minute', 'Arr_hour',\n",
       "       'Arr_minute'],\n",
       "      dtype='object')"
      ]
     },
     "execution_count": 44,
     "metadata": {},
     "output_type": "execute_result"
    }
   ],
   "source": [
    "X_train.columns"
   ]
  },
  {
   "cell_type": "code",
   "execution_count": 45,
   "id": "230b4ed4",
   "metadata": {},
   "outputs": [],
   "source": [
    "from sklearn.linear_model import LinearRegression\n",
    "from sklearn.ensemble import RandomForestRegressor\n",
    "from xgboost import XGBRegressor\n"
   ]
  },
  {
   "cell_type": "code",
   "execution_count": 46,
   "id": "1dcf607b",
   "metadata": {},
   "outputs": [],
   "source": [
    "models = {\n",
    "    \"Linear Regression\": LinearRegression(),\n",
    "    \"Random Forest Regressor\": RandomForestRegressor(),\n",
    "    \"XGB Regressor\": XGBRegressor()\n",
    "}\n",
    "from sklearn.pipeline import Pipeline\n",
    "pipelines = {}\n",
    "for name , model in models.items():\n",
    "    pipelines[name] = Pipeline([\n",
    "        ('preprocessor', preprocessor),\n",
    "        ('Regressor', model)\n",
    "    ])"
   ]
  },
  {
   "cell_type": "code",
   "execution_count": 47,
   "id": "424b8eff",
   "metadata": {},
   "outputs": [
    {
     "name": "stdout",
     "output_type": "stream",
     "text": [
      "1.7.1\n"
     ]
    }
   ],
   "source": [
    "import sklearn\n",
    "print(sklearn.__version__)\n"
   ]
  },
  {
   "cell_type": "code",
   "execution_count": 48,
   "id": "55ff3234",
   "metadata": {},
   "outputs": [
    {
     "name": "stdout",
     "output_type": "stream",
     "text": [
      "Model: Linear Regression\n",
      " MAE = 1968.36\n",
      " MSE = 7882371.20\n",
      " RMSE = 2807.56\n",
      " R^2 = 0.614\n"
     ]
    },
    {
     "name": "stderr",
     "output_type": "stream",
     "text": [
      "c:\\Users\\Mansi\\AppData\\Local\\Programs\\Python\\Python313\\Lib\\site-packages\\sklearn\\preprocessing\\_encoders.py:246: UserWarning: Found unknown categories in columns [2] during transform. These unknown categories will be encoded as all zeros\n",
      "  warnings.warn(\n",
      "c:\\Users\\Mansi\\AppData\\Local\\Programs\\Python\\Python313\\Lib\\site-packages\\sklearn\\preprocessing\\_encoders.py:246: UserWarning: Found unknown categories in columns [2] during transform. These unknown categories will be encoded as all zeros\n",
      "  warnings.warn(\n",
      "c:\\Users\\Mansi\\AppData\\Local\\Programs\\Python\\Python313\\Lib\\site-packages\\sklearn\\preprocessing\\_encoders.py:246: UserWarning: Found unknown categories in columns [2] during transform. These unknown categories will be encoded as all zeros\n",
      "  warnings.warn(\n",
      "c:\\Users\\Mansi\\AppData\\Local\\Programs\\Python\\Python313\\Lib\\site-packages\\sklearn\\preprocessing\\_encoders.py:246: UserWarning: Found unknown categories in columns [2] during transform. These unknown categories will be encoded as all zeros\n",
      "  warnings.warn(\n"
     ]
    },
    {
     "name": "stdout",
     "output_type": "stream",
     "text": [
      "  CV MAE mean  = 1960.80 (std: 44.24)\n",
      "  CV MSE mean  = 8187875.94 (std: 1089322.52)\n",
      "  CV RMSE mean = 2855.18 (std: 189.27)\n",
      "  CV R^2 mean  = 0.619 (std: 0.026)\n",
      "----------------------------------------\n",
      "Model: Random Forest Regressor\n",
      " MAE = 1176.58\n",
      " MSE = 3955689.01\n",
      " RMSE = 1988.89\n",
      " R^2 = 0.806\n"
     ]
    },
    {
     "name": "stderr",
     "output_type": "stream",
     "text": [
      "c:\\Users\\Mansi\\AppData\\Local\\Programs\\Python\\Python313\\Lib\\site-packages\\sklearn\\preprocessing\\_encoders.py:246: UserWarning: Found unknown categories in columns [2] during transform. These unknown categories will be encoded as all zeros\n",
      "  warnings.warn(\n",
      "c:\\Users\\Mansi\\AppData\\Local\\Programs\\Python\\Python313\\Lib\\site-packages\\sklearn\\preprocessing\\_encoders.py:246: UserWarning: Found unknown categories in columns [2] during transform. These unknown categories will be encoded as all zeros\n",
      "  warnings.warn(\n",
      "c:\\Users\\Mansi\\AppData\\Local\\Programs\\Python\\Python313\\Lib\\site-packages\\sklearn\\preprocessing\\_encoders.py:246: UserWarning: Found unknown categories in columns [2] during transform. These unknown categories will be encoded as all zeros\n",
      "  warnings.warn(\n",
      "c:\\Users\\Mansi\\AppData\\Local\\Programs\\Python\\Python313\\Lib\\site-packages\\sklearn\\preprocessing\\_encoders.py:246: UserWarning: Found unknown categories in columns [2] during transform. These unknown categories will be encoded as all zeros\n",
      "  warnings.warn(\n"
     ]
    },
    {
     "name": "stdout",
     "output_type": "stream",
     "text": [
      "  CV MAE mean  = 1196.11 (std: 39.18)\n",
      "  CV MSE mean  = 4299868.06 (std: 849987.14)\n",
      "  CV RMSE mean = 2078.28 (std: 222.11)\n",
      "  CV R^2 mean  = 0.800 (std: 0.021)\n",
      "----------------------------------------\n",
      "Model: XGB Regressor\n",
      " MAE = 1159.68\n",
      " MSE = 3154842.75\n",
      " RMSE = 1776.19\n",
      " R^2 = 0.846\n"
     ]
    },
    {
     "name": "stderr",
     "output_type": "stream",
     "text": [
      "c:\\Users\\Mansi\\AppData\\Local\\Programs\\Python\\Python313\\Lib\\site-packages\\sklearn\\preprocessing\\_encoders.py:246: UserWarning: Found unknown categories in columns [2] during transform. These unknown categories will be encoded as all zeros\n",
      "  warnings.warn(\n",
      "c:\\Users\\Mansi\\AppData\\Local\\Programs\\Python\\Python313\\Lib\\site-packages\\sklearn\\preprocessing\\_encoders.py:246: UserWarning: Found unknown categories in columns [2] during transform. These unknown categories will be encoded as all zeros\n",
      "  warnings.warn(\n",
      "c:\\Users\\Mansi\\AppData\\Local\\Programs\\Python\\Python313\\Lib\\site-packages\\sklearn\\preprocessing\\_encoders.py:246: UserWarning: Found unknown categories in columns [2] during transform. These unknown categories will be encoded as all zeros\n",
      "  warnings.warn(\n"
     ]
    },
    {
     "name": "stdout",
     "output_type": "stream",
     "text": [
      "  CV MAE mean  = 1206.08 (std: 51.93)\n",
      "  CV MSE mean  = 3838450.25 (std: 958848.38)\n",
      "  CV RMSE mean = 1944.02 (std: 243.36)\n",
      "  CV R^2 mean  = 0.824 (std: 0.029)\n",
      "----------------------------------------\n"
     ]
    },
    {
     "name": "stderr",
     "output_type": "stream",
     "text": [
      "c:\\Users\\Mansi\\AppData\\Local\\Programs\\Python\\Python313\\Lib\\site-packages\\sklearn\\preprocessing\\_encoders.py:246: UserWarning: Found unknown categories in columns [2] during transform. These unknown categories will be encoded as all zeros\n",
      "  warnings.warn(\n"
     ]
    }
   ],
   "source": [
    "from sklearn.model_selection import cross_val_score\n",
    "from sklearn.metrics import mean_absolute_error, mean_squared_error, r2_score\n",
    "import numpy as np\n",
    "\n",
    "for name, pipeline in pipelines.items():\n",
    "    # Fit the pipeline on training data\n",
    "    pipeline.fit(X_train, y_train)\n",
    "    # Predict on test set\n",
    "    y_pred = pipeline.predict(X_test)\n",
    "    # Calculate regression metrics\n",
    "    mae = mean_absolute_error(y_test, y_pred)\n",
    "    mse = mean_squared_error(y_test, y_pred)\n",
    "    rmse = np.sqrt(mse)\n",
    "    r2 = r2_score(y_test, y_pred)\n",
    "\n",
    "    print(f\"Model: {name}\")\n",
    "    print(f\" MAE = {mae:.2f}\")\n",
    "    print(f\" MSE = {mse:.2f}\")\n",
    "    print(f\" RMSE = {rmse:.2f}\")\n",
    "    print(f\" R^2 = {r2:.3f}\")\n",
    "    \n",
    "    # Cross-validation (on entire training data, 5 folds)\n",
    "    cv_mae = -cross_val_score(pipeline, X_train, y_train, scoring='neg_mean_absolute_error', cv=5)\n",
    "    cv_mse = -cross_val_score(pipeline, X_train, y_train, scoring='neg_mean_squared_error', cv=5)\n",
    "    cv_rmse = np.sqrt(-cross_val_score(pipeline, X_train, y_train, scoring='neg_mean_squared_error', cv=5))\n",
    "    cv_r2 = cross_val_score(pipeline, X_train, y_train, scoring='r2', cv=5)\n",
    "    \n",
    "    print(f\"  CV MAE mean  = {cv_mae.mean():.2f} (std: {cv_mae.std():.2f})\")\n",
    "    print(f\"  CV MSE mean  = {cv_mse.mean():.2f} (std: {cv_mse.std():.2f})\")\n",
    "    print(f\"  CV RMSE mean = {cv_rmse.mean():.2f} (std: {cv_rmse.std():.2f})\")\n",
    "    print(f\"  CV R^2 mean  = {cv_r2.mean():.3f} (std: {cv_r2.std():.3f})\")\n",
    "    print(\"-\"*40)\n"
   ]
  },
  {
   "cell_type": "code",
   "execution_count": 49,
   "id": "6e9fc3ed",
   "metadata": {},
   "outputs": [],
   "source": [
    "import mlflow"
   ]
  },
  {
   "cell_type": "code",
   "execution_count": 50,
   "id": "e2995edb",
   "metadata": {},
   "outputs": [
    {
     "data": {
      "text/plain": [
       "<Experiment: artifact_location='mlflow-artifacts:/744799212928999168', creation_time=1756053107941, experiment_id='744799212928999168', last_update_time=1756053107941, lifecycle_stage='active', name='Flight_Price_Prediction_Exp', tags={}>"
      ]
     },
     "execution_count": 50,
     "metadata": {},
     "output_type": "execute_result"
    }
   ],
   "source": [
    "mlflow.set_experiment(\"Flight_Price_Prediction_Exp\")"
   ]
  },
  {
   "cell_type": "code",
   "execution_count": null,
   "id": "40b46bb0",
   "metadata": {},
   "outputs": [],
   "source": [
    "# mlflow ui (must)"
   ]
  },
  {
   "cell_type": "code",
   "execution_count": 51,
   "id": "85ea3046",
   "metadata": {},
   "outputs": [],
   "source": [
    "import mlflow\n",
    "\n",
    "mlflow.set_tracking_uri(\"file:///C:/Users/Mansi/.vscode/Flight & Customer Prediction/mlruns\")\n",
    "\n"
   ]
  },
  {
   "cell_type": "code",
   "execution_count": 52,
   "id": "57e72d78",
   "metadata": {},
   "outputs": [],
   "source": [
    "import mlflow\n",
    "mlflow.set_tracking_uri(\"http://127.0.0.1:5000\")"
   ]
  },
  {
   "cell_type": "code",
   "execution_count": 54,
   "id": "bf88010f",
   "metadata": {},
   "outputs": [
    {
     "name": "stderr",
     "output_type": "stream",
     "text": [
      "2025/09/03 17:12:00 WARNING mlflow.models.model: `artifact_path` is deprecated. Please use `name` instead.\n",
      "2025/09/03 17:12:06 WARNING mlflow.models.model: Model logged without a signature and input example. Please set `input_example` parameter when logging the model to auto infer the model signature.\n",
      "c:\\Users\\Mansi\\AppData\\Local\\Programs\\Python\\Python313\\Lib\\site-packages\\sklearn\\preprocessing\\_encoders.py:246: UserWarning: Found unknown categories in columns [2] during transform. These unknown categories will be encoded as all zeros\n",
      "  warnings.warn(\n"
     ]
    },
    {
     "name": "stdout",
     "output_type": "stream",
     "text": [
      "🏃 View run Linear Regression at: http://127.0.0.1:5000/#/experiments/744799212928999168/runs/0cc4974b97004a85be176d7bcb4ac559\n",
      "🧪 View experiment at: http://127.0.0.1:5000/#/experiments/744799212928999168\n"
     ]
    },
    {
     "name": "stderr",
     "output_type": "stream",
     "text": [
      "2025/09/03 17:12:10 WARNING mlflow.models.model: `artifact_path` is deprecated. Please use `name` instead.\n",
      "2025/09/03 17:12:13 WARNING mlflow.models.model: Model logged without a signature and input example. Please set `input_example` parameter when logging the model to auto infer the model signature.\n",
      "c:\\Users\\Mansi\\AppData\\Local\\Programs\\Python\\Python313\\Lib\\site-packages\\sklearn\\preprocessing\\_encoders.py:246: UserWarning: Found unknown categories in columns [2] during transform. These unknown categories will be encoded as all zeros\n",
      "  warnings.warn(\n"
     ]
    },
    {
     "name": "stdout",
     "output_type": "stream",
     "text": [
      "🏃 View run Random Forest Regressor at: http://127.0.0.1:5000/#/experiments/744799212928999168/runs/2ee7e925ae284e4bafc42a0e6e496475\n",
      "🧪 View experiment at: http://127.0.0.1:5000/#/experiments/744799212928999168\n"
     ]
    },
    {
     "name": "stderr",
     "output_type": "stream",
     "text": [
      "2025/09/03 17:12:26 WARNING mlflow.models.model: `artifact_path` is deprecated. Please use `name` instead.\n",
      "2025/09/03 17:12:29 WARNING mlflow.models.model: Model logged without a signature and input example. Please set `input_example` parameter when logging the model to auto infer the model signature.\n"
     ]
    },
    {
     "name": "stdout",
     "output_type": "stream",
     "text": [
      "🏃 View run XGB Regressor at: http://127.0.0.1:5000/#/experiments/744799212928999168/runs/a779ab66bd8f416e9c3d398139793c77\n",
      "🧪 View experiment at: http://127.0.0.1:5000/#/experiments/744799212928999168\n"
     ]
    },
    {
     "name": "stderr",
     "output_type": "stream",
     "text": [
      "c:\\Users\\Mansi\\AppData\\Local\\Programs\\Python\\Python313\\Lib\\site-packages\\sklearn\\preprocessing\\_encoders.py:246: UserWarning: Found unknown categories in columns [2] during transform. These unknown categories will be encoded as all zeros\n",
      "  warnings.warn(\n"
     ]
    }
   ],
   "source": [
    "import mlflow\n",
    "import mlflow.sklearn\n",
    "\n",
    "for name, pipeline in pipelines.items():\n",
    "    with mlflow.start_run(run_name=name):  # Each run is named after the model\n",
    "        # Train and predict with pipeline\n",
    "        pipeline.fit(X_train, y_train)\n",
    "        y_pred = pipeline.predict(X_test)\n",
    "        \n",
    "        # Calculate metrics\n",
    "        mae = mean_absolute_error(y_test, y_pred)\n",
    "        mse = mean_squared_error(y_test, y_pred)\n",
    "        rmse = np.sqrt(mse)\n",
    "        r2 = r2_score(y_test, y_pred)\n",
    "        \n",
    "        # Log parameters and metrics\n",
    "        mlflow.log_param(\"model_type\", name)\n",
    "        mlflow.log_metric(\"MAE\", mae)\n",
    "        mlflow.log_metric(\"MSE\", mse)\n",
    "        mlflow.log_metric(\"RMSE\", rmse)\n",
    "        mlflow.log_metric(\"R2\", r2)\n",
    "        \n",
    "        # Log the pipeline object itself\n",
    "        mlflow.sklearn.log_model(pipeline, artifact_path=name)\n",
    "        \n",
    "        # Optionally: Log cross-validation metrics\n",
    "        cv_mae = -cross_val_score(pipeline, X_train, y_train, \n",
    "                                  scoring='neg_mean_absolute_error', cv=5)\n",
    "        mlflow.log_metric(\"CV_MAE_mean\", cv_mae.mean())\n",
    "        mlflow.log_metric(\"CV_MAE_std\", cv_mae.std())"
   ]
  },
  {
   "cell_type": "code",
   "execution_count": 55,
   "id": "10e46453",
   "metadata": {},
   "outputs": [],
   "source": [
    "import pandas as pd\n",
    "from sklearn.pipeline import Pipeline\n",
    "from sklearn.preprocessing import StandardScaler\n",
    "from sklearn.impute import SimpleImputer\n",
    "from sklearn.ensemble import RandomForestRegressor\n",
    "from sklearn.linear_model import LinearRegression\n",
    "import xgboost as xgb\n",
    "import pickle\n",
    "\n",
    "\n"
   ]
  },
  {
   "cell_type": "code",
   "execution_count": 56,
   "id": "efffe059",
   "metadata": {},
   "outputs": [],
   "source": [
    "model = pipelines['XGB Regressor']\n"
   ]
  },
  {
   "cell_type": "code",
   "execution_count": 57,
   "id": "c8bba743",
   "metadata": {},
   "outputs": [],
   "source": [
    "\n",
    "\n",
    "# Write all models to a single pickle file\n",
    "with open('models.pkl', 'wb') as f:\n",
    "    pickle.dump(model, f)"
   ]
  },
  {
   "cell_type": "code",
   "execution_count": 100,
   "id": "4efa50cc",
   "metadata": {},
   "outputs": [
    {
     "data": {
      "text/plain": [
       "Index(['Price', 'Duration_in_minutes', 'Number_of_Stops', 'Journey_year',\n",
       "       'Journey_month', 'Journey_day', 'Dep_hour', 'Dep_minute', 'Arr_hour',\n",
       "       'Arr_minute', 'Source_Chennai', 'Source_Delhi', 'Source_Kolkata',\n",
       "       'Source_Mumbai', 'Destination_Cochin', 'Destination_Delhi',\n",
       "       'Destination_Hyderabad', 'Destination_Kolkata', 'Destination_New Delhi',\n",
       "       'Airline_Air India', 'Airline_GoAir', 'Airline_IndiGo',\n",
       "       'Airline_Jet Airways', 'Airline_Jet Airways Business',\n",
       "       'Airline_Multiple carriers',\n",
       "       'Airline_Multiple carriers Premium economy', 'Airline_SpiceJet',\n",
       "       'Airline_Trujet', 'Airline_Vistara', 'Airline_Vistara Premium economy'],\n",
       "      dtype='object')"
      ]
     },
     "execution_count": 100,
     "metadata": {},
     "output_type": "execute_result"
    }
   ],
   "source": [
    "df.columns"
   ]
  }
 ],
 "metadata": {
  "kernelspec": {
   "display_name": "Python 3",
   "language": "python",
   "name": "python3"
  },
  "language_info": {
   "codemirror_mode": {
    "name": "ipython",
    "version": 3
   },
   "file_extension": ".py",
   "mimetype": "text/x-python",
   "name": "python",
   "nbconvert_exporter": "python",
   "pygments_lexer": "ipython3",
   "version": "3.13.0"
  }
 },
 "nbformat": 4,
 "nbformat_minor": 5
}
